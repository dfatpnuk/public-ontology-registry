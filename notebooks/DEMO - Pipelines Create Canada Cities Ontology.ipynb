{
 "cells": [
  {
   "cell_type": "markdown",
   "metadata": {},
   "source": [
    "## Example process of running pipelines to create ontology"
   ]
  },
  {
   "cell_type": "code",
   "execution_count": 1,
   "metadata": {},
   "outputs": [],
   "source": [
    "from notebooks import *\n",
    "#from pathlib import Path"
   ]
  },
  {
   "cell_type": "markdown",
   "metadata": {},
   "source": [
    "### Define parameters to run\n",
    "\n",
    "- `data_file`: Where we have the raw data file stored\n",
    "- `data_path`: Folder where we have the processed data stored\n",
    "- `domain` : Domain we want to create for the ontology\n",
    "- `ontology_name`: Name of the ontology\n",
    "- `ontology_path`: Folder where we have the generated ontology stored"
   ]
  },
  {
   "cell_type": "code",
   "execution_count": 2,
   "metadata": {},
   "outputs": [],
   "source": [
    "data_file = '../data/canadacities/canadacities.csv'\n",
    "data_path = '../data/canadacities'\n",
    "out_file = '../data/canadacities/canada_provinces.json'\n",
    "domain='http://bast.ai'\n",
    "ontology_name='canada_city'\n",
    "ontology_path='../ontologies/canada_city'#remember make OWL file call it canada_city"
   ]
  },
  {
   "cell_type": "markdown",
   "metadata": {},
   "source": [
    "### Make sure the folders are created"
   ]
  },
  {
   "cell_type": "code",
   "execution_count": 3,
   "metadata": {},
   "outputs": [],
   "source": [
    "#FileIO = Path(\"data_path\")\n",
    "FileIO.exists_or_create(data_path)\n",
    "FileIO.exists_or_create(ontology_path)"
   ]
  },
  {
   "cell_type": "markdown",
   "metadata": {},
   "source": [
    "### Intialize creation of ontology"
   ]
  },
  {
   "cell_type": "code",
   "execution_count": 4,
   "metadata": {},
   "outputs": [
    {
     "name": "stdout",
     "output_type": "stream",
     "text": [
      "../ontologies/canada_city/canada_city.owl\n",
      "File: ../ontologies/canada_city/canada_city.owl is already exist.\n",
      "Pipeline will do nothing.\n",
      "Owl base: http://bast.ai/canada_city\n"
     ]
    }
   ],
   "source": [
    "from bast_ai_buildowl.svc import InitializeOwl\n",
    "InitializeOwl(domain=domain,\n",
    "                owl_name=ontology_name,\n",
    "                output_path=ontology_path).run()"
   ]
  },
  {
   "cell_type": "code",
   "execution_count": 5,
   "metadata": {},
   "outputs": [],
   "source": [
    "def cleanse (input_str: str) -> str:\n",
    "    result = input_str\n",
    "    result = result.replace(\" \",\"_\")  \n",
    "    result = result.replace(\",\",\"_\")\n",
    "    result = result.replace(\"&\",\"_\")\n",
    "    result = result.replace(\"_and_\",\"_\")\n",
    "    result = result.replace(\"'\",\"_\")\n",
    "    result = result.replace('\"',\"_\")\n",
    "    result = result.replace(\"/\",\"_\")\n",
    "    result = result.replace(\"’\",\"_\")\n",
    "    result = result.replace(\"'\",\"_\")\n",
    "    while (\"__\" in result):\n",
    "        result = result.replace(\"__\",\"_\")\n",
    "    \n",
    "    return result"
   ]
  },
  {
   "cell_type": "code",
   "execution_count": 6,
   "metadata": {},
   "outputs": [],
   "source": [
    "def get_label (cleansed_str: str) -> str:\n",
    "    result = cleansed_str\n",
    "    result = result.replace(\"_\",\" \")\n",
    "    result = result.replace(\"-\",\" \")\n",
    "    result = TextUtils.title_case(result)\n",
    "    return result"
   ]
  },
  {
   "cell_type": "code",
   "execution_count": 7,
   "metadata": {},
   "outputs": [],
   "source": [
    "# def get_synonyms (input_str: str,\n",
    "#                   prefix_str: str = None) -> list:\n",
    "#     result = list()\n",
    "#     tokens = re.split(\"&|,| and \",input_str)\n",
    "#     for token in tokens:\n",
    "#         token = token.strip()\n",
    "#         if (prefix_str):\n",
    "#             result.append(prefix_str + \" \" + token)\n",
    "#         else:\n",
    "#             result.append(token)\n",
    "#     if ( len(result) > 1):\n",
    "#         return result\n",
    "#     else: \n",
    "#         return []"
   ]
  },
  {
   "cell_type": "markdown",
   "metadata": {},
   "source": [
    "### Prepare data files to put in ontology"
   ]
  },
  {
   "cell_type": "code",
   "execution_count": 8,
   "metadata": {},
   "outputs": [
    {
     "name": "stdout",
     "output_type": "stream",
     "text": [
      "Output written in this file: ../data/canadacities/canada_provinces.json\n"
     ]
    }
   ],
   "source": [
    "import pandas as pd\n",
    "import json\n",
    "\n",
    "# Define input and output file paths so we can prepare province data\n",
    "source_file = data_file\n",
    "\n",
    "\n",
    "# Read source file\n",
    "records = pd.read_csv(source_file).values.tolist()\n",
    "\n",
    "# Prepare ontology data structure by defining root node\n",
    "out_data = [{\"entity\": \"canada_provinces\", \"label\": \"Canada Provinces\"}]\n",
    "provinces = dict()\n",
    "\n",
    "# Process each record store each column category into variable\n",
    "for r in records:\n",
    "    city_ascii = r[1]  # ASCII version of city name\n",
    "    city = r[0]  # City name\n",
    "    province_id = r[2]  # Province identifier\n",
    "    province_name = r[3]  # Province name\n",
    "\n",
    "    # Check if province_id is in data and set keys to provinces dictionary\n",
    "    if province_id != 'province_id':  # Skip header row\n",
    "        if province_id not in provinces:\n",
    "            provinces[province_id] = {\n",
    "                'province_id': province_id,\n",
    "                'province_name': province_name,\n",
    "                'cities': []#cities is dictionary first key city second key city_ascii\n",
    "            }\n",
    "        provinces[province_id]['cities'].append({\"city\": city, \"city_ascii\": city_ascii}) #city data stored within province\n",
    "\n",
    "# Define cleanse function to clean entity names\n",
    "def cleanser(entity_name):\n",
    "    return entity_name.replace(\" \", \"_\").replace(\"'\", \"\").lower()#remove single quotes and place underscores\n",
    "\n",
    "# Create a set to track the provinces that are processed\n",
    "processed_provinces = set()\n",
    "\n",
    "# Convert the province and city data into the ontology hierachy \n",
    "for province_id, province_data in provinces.items():\n",
    "    province_code_cleanse = cleanser(province_data['province_id'])#return key value pairs as tuples in provinces province id key, data is value\n",
    "    \n",
    "    # Add the province entry if it was not processed\n",
    "    if province_code_cleanse not in processed_provinces:\n",
    "        out_data.append({\n",
    "            \"entity\": province_code_cleanse,\n",
    "            \"parentEntity\": \"canada_provinces\",\n",
    "            \"label\": province_data[\"province_name\"]\n",
    "        })\n",
    "        processed_provinces.add(province_code_cleanse)\n",
    "    \n",
    "    # Now add the cities for each province\n",
    "    for city_data in province_data[\"cities\"]:\n",
    "        city_cleanse = cleanse(city_data[\"city\"])\n",
    "        out_data.append({\n",
    "            \"entity\": city_cleanse,\n",
    "            \"parentEntity\": province_code_cleanse,\n",
    "            \"label\": [city_data[\"city_ascii\"]],\n",
    "            \"synonyms\": city_data[\"city\"]\n",
    "        })\n",
    "\n",
    "# Write the output data to JSON file with ensure_ascii is False to avoid unicode escape sequences \n",
    "with open(out_file, 'w', encoding='utf-8') as f:\n",
    "    json.dump(out_data, f, indent=4, ensure_ascii=False)\n",
    "\n",
    "# Check if the output file has been written successfully\n",
    "print(f\"Output written in this file: {out_file}\")\n"
   ]
  },
  {
   "cell_type": "code",
   "execution_count": 9,
   "metadata": {},
   "outputs": [],
   "source": [
    "# NOT DOING RIGHT NOW\n",
    "from bast_ai_buildowl.svc import AddEntities\n",
    "AddEntities(owl_path=f'{ontology_path}/{ontology_name}.owl').run(entities_file=out_file)"
   ]
  },
  {
   "cell_type": "code",
   "execution_count": null,
   "metadata": {},
   "outputs": [],
   "source": []
  }
 ],
 "metadata": {
  "kernelspec": {
   "display_name": ".venv",
   "language": "python",
   "name": "python3"
  },
  "language_info": {
   "codemirror_mode": {
    "name": "ipython",
    "version": 3
   },
   "file_extension": ".py",
   "mimetype": "text/x-python",
   "name": "python",
   "nbconvert_exporter": "python",
   "pygments_lexer": "ipython3",
   "version": "3.10.15"
  }
 },
 "nbformat": 4,
 "nbformat_minor": 2
}
